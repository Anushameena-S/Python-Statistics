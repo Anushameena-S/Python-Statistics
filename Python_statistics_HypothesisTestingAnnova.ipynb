{
 "cells": [
  {
   "cell_type": "markdown",
   "metadata": {
    "id": "ZmiGEHa1ONmB"
   },
   "source": [
    "#Hypothesis Testing_Statistics & Probability -  Two-Sample Z test\n"
   ]
  },
  {
   "cell_type": "markdown",
   "metadata": {
    "id": "f88YZuH8O3P2"
   },
   "source": [
    "Null Hypothesis: Temperature doesn’t affect COVID Outbreak\n",
    "\n",
    "Alternate Hypothesis: Temperature does affect COVID Outbreak"
   ]
  },
  {
   "cell_type": "markdown",
   "metadata": {
    "id": "pDOkbJoHOhMI"
   },
   "source": [
    "### Importing the basic libraries"
   ]
  },
  {
   "cell_type": "code",
   "execution_count": 1,
   "metadata": {
    "id": "9ayLpwGuOIkm"
   },
   "outputs": [],
   "source": [
    "import pandas as pd\n",
    "import numpy as np"
   ]
  },
  {
   "cell_type": "markdown",
   "metadata": {
    "id": "36RH2chxO_Ju"
   },
   "source": [
    "### Load Dataset from Local Directory"
   ]
  },
  {
   "cell_type": "code",
   "execution_count": null,
   "metadata": {
    "id": "tNJOtRhyOt2T"
   },
   "outputs": [],
   "source": [
    "#from google.colab import files\n",
    "#uploaded = files.upload()"
   ]
  },
  {
   "cell_type": "code",
   "execution_count": 2,
   "metadata": {
    "id": "nICV2qMLPEXP"
   },
   "outputs": [
    {
     "name": "stdout",
     "output_type": "stream",
     "text": [
      "(206, 12)\n",
      "  Province/State              Country/Region          Last Update  Confirmed  \\\n",
      "0          Hubei              Mainland China  2020-03-10T15:13:05      67760   \n",
      "1            NaN                       Italy  2020-03-10T17:53:02      10149   \n",
      "2            NaN  Iran (Islamic Republic of)  2020-03-10T19:13:20       8042   \n",
      "3            NaN           Republic of Korea  2020-03-10T19:13:20       7513   \n",
      "4            NaN                      France  2020-03-10T18:53:02       1784   \n",
      "\n",
      "   Deaths  Recovered  Latitude  Longitude  Temprature  Humidity  Temp_Cat  \\\n",
      "0    3024      47743   30.9756   112.2707        12.5        86         1   \n",
      "1     631        724   43.0000    12.0000        12.9        64         1   \n",
      "2     291       2731   32.0000    53.0000        11.9         9         0   \n",
      "3      54        247   36.0000   128.0000         4.9        41         0   \n",
      "4      33         12   47.0000     2.0000        11.9        93         0   \n",
      "\n",
      "   Humid_Cat  \n",
      "0          1  \n",
      "1          1  \n",
      "2          0  \n",
      "3          0  \n",
      "4          0  \n"
     ]
    }
   ],
   "source": [
    "dataset = pd.read_csv('dataset.csv')\n",
    "print(dataset.shape)\n",
    "print(dataset.head(5))"
   ]
  },
  {
   "cell_type": "markdown",
   "metadata": {
    "id": "VbRE9t1XRNXB"
   },
   "source": [
    "### Considering Temperature below 24 as Cold Climate and above 24 as Hot Climate in our dataset"
   ]
  },
  {
   "cell_type": "code",
   "execution_count": 3,
   "metadata": {
    "id": "f48HcSsJPwR-"
   },
   "outputs": [
    {
     "name": "stdout",
     "output_type": "stream",
     "text": [
      "   Confirmed  Temp_Cat\n",
      "0      67760         0\n",
      "1      10149         0\n",
      "2       8042         0\n",
      "3       7513         0\n",
      "4       1784         0\n"
     ]
    }
   ],
   "source": [
    "dataset['Temp_Cat'] = dataset['Temprature'].apply(lambda x : 0 if x < 24 else 1)\n",
    "datasetModified = dataset[['Confirmed', 'Temp_Cat']]\n",
    "print(datasetModified.head(5))"
   ]
  },
  {
   "cell_type": "code",
   "execution_count": 4,
   "metadata": {
    "id": "pxCsuDfEPQfg"
   },
   "outputs": [],
   "source": [
    "d1 = datasetModified[(datasetModified['Temp_Cat']==1)]['Confirmed']\n",
    "d2 = datasetModified[(datasetModified['Temp_Cat']==0)]['Confirmed']\n",
    "\n",
    "m1, m2 = d1.mean(), d2.mean()\n",
    "sd1, sd2 = d1.std(), d2.std()\n",
    "n1, n2 = d1.shape[0], d2.shape[0]"
   ]
  },
  {
   "cell_type": "code",
   "execution_count": 5,
   "metadata": {
    "id": "38ScWe32PThM"
   },
   "outputs": [],
   "source": [
    "from numpy import sqrt, abs, round\n",
    "from scipy.stats import norm\n",
    "def model(X1, X2, sigma1, sigma2, N1, N2): #Two sample Z test\n",
    "    ovr_sigma = sqrt(sigma1**2/N1 + sigma2**2/N2)\n",
    "    z = (X1 - X2)/ovr_sigma\n",
    "    pval = 2*(1 - norm.cdf(abs(z)))\n",
    "    return z, pval\n",
    "z, p = model(m1, m2, sd1, sd2, n1, n2)"
   ]
  },
  {
   "cell_type": "code",
   "execution_count": 6,
   "metadata": {
    "id": "9aNsi1jXPYvF"
   },
   "outputs": [
    {
     "name": "stdout",
     "output_type": "stream",
     "text": [
      "0.102054\n",
      "Do not reject Null Hypothesis : Not Significant\n"
     ]
    }
   ],
   "source": [
    "z_score = np.round(z,8)\n",
    "p_val = np.round(p,6)\n",
    "\n",
    "if (p_val<0.05):\n",
    "    Hypothesis_Status = 'Reject Null Hypothesis : Significant'\n",
    "else:\n",
    "    Hypothesis_Status = 'Do not reject Null Hypothesis : Not Significant'\n",
    "\n",
    "print (p_val)\n",
    "print (Hypothesis_Status)"
   ]
  }
 ],
 "metadata": {
  "colab": {
   "collapsed_sections": [],
   "name": "10_HypothesisTestingAnnova_StatisticsProbability.ipynb",
   "provenance": []
  },
  "kernelspec": {
   "display_name": "Python 3 (ipykernel)",
   "language": "python",
   "name": "python3"
  },
  "language_info": {
   "codemirror_mode": {
    "name": "ipython",
    "version": 3
   },
   "file_extension": ".py",
   "mimetype": "text/x-python",
   "name": "python",
   "nbconvert_exporter": "python",
   "pygments_lexer": "ipython3",
   "version": "3.11.7"
  }
 },
 "nbformat": 4,
 "nbformat_minor": 1
}
