{
 "cells": [
  {
   "cell_type": "markdown",
   "id": "ff34b00c",
   "metadata": {},
   "source": [
    "### A/B Testing:-"
   ]
  },
  {
   "cell_type": "markdown",
   "id": "dde9336b",
   "metadata": {},
   "source": [
    "A/B testing, also known as split testing, is a method used to compare two versions of a web page, app feature, email, or other marketing asset to determine which one performs better. It involves dividing your audience into two groups:\n",
    "\n",
    "- <b>Group A (Control Group)<b>: This group sees the original version.\n",
    "- <b>Group B (Treatment Group)<b>: This group sees the modified version."
   ]
  },
  {
   "cell_type": "markdown",
   "id": "95d907d5",
   "metadata": {
    "id": "95d907d5"
   },
   "source": [
    "### Importing the necessary libraries"
   ]
  },
  {
   "cell_type": "code",
   "execution_count": 1,
   "id": "37e010f3",
   "metadata": {},
   "outputs": [],
   "source": [
    "import pandas as pd\n",
    "import scipy.stats as ss"
   ]
  },
  {
   "cell_type": "markdown",
   "id": "bbc6ce59",
   "metadata": {
    "id": "bbc6ce59"
   },
   "source": [
    "# Two sample mean testing (unpaired) -1"
   ]
  },
  {
   "cell_type": "markdown",
   "id": "9c941a3d",
   "metadata": {},
   "source": [
    "A custom exhaust manufacturing company want to compare the fuel economy after upgrading motorcycles from stock to custom exhaust. The test were run for 2 different batches i.e. BS4 and BS6 as custom exhaust is compatible with both BS4 and BS6 motorcycles. Both the batches have all different models of bikes as changes has to be compared across all models variants with old BS4 and newer BS6. To track if the custom exhaust affects the fuel economy of the BS4 and BS6 motorcycles differently, you decided to conduct a few hypothesis tests.\n",
    "\n",
    "- Dataset to use: `unpaired-exhaust.csv`"
   ]
  },
  {
   "cell_type": "code",
   "execution_count": 2,
   "id": "56560102",
   "metadata": {},
   "outputs": [],
   "source": [
    "## Load the dataset\n",
    "twosampup_df = pd.read_csv(\"unpaired-exhaust.csv\")\n",
    "#https://drive.google.com/file/d/1SeUYT1Az_DRwEduW1o6Uwz7lVjUjx20E/view?usp=drive_link"
   ]
  },
  {
   "cell_type": "code",
   "execution_count": 3,
   "id": "25ad6ae5",
   "metadata": {
    "collapsed": true
   },
   "outputs": [
    {
     "data": {
      "text/html": [
       "<div>\n",
       "<style scoped>\n",
       "    .dataframe tbody tr th:only-of-type {\n",
       "        vertical-align: middle;\n",
       "    }\n",
       "\n",
       "    .dataframe tbody tr th {\n",
       "        vertical-align: top;\n",
       "    }\n",
       "\n",
       "    .dataframe thead th {\n",
       "        text-align: right;\n",
       "    }\n",
       "</style>\n",
       "<table border=\"1\" class=\"dataframe\">\n",
       "  <thead>\n",
       "    <tr style=\"text-align: right;\">\n",
       "      <th></th>\n",
       "      <th>Bike ID</th>\n",
       "      <th>Fuel Economy</th>\n",
       "      <th>Batch</th>\n",
       "    </tr>\n",
       "  </thead>\n",
       "  <tbody>\n",
       "    <tr>\n",
       "      <th>0</th>\n",
       "      <td>A1</td>\n",
       "      <td>43</td>\n",
       "      <td>BS4</td>\n",
       "    </tr>\n",
       "    <tr>\n",
       "      <th>1</th>\n",
       "      <td>A2</td>\n",
       "      <td>52</td>\n",
       "      <td>BS4</td>\n",
       "    </tr>\n",
       "    <tr>\n",
       "      <th>2</th>\n",
       "      <td>A3</td>\n",
       "      <td>58</td>\n",
       "      <td>BS4</td>\n",
       "    </tr>\n",
       "    <tr>\n",
       "      <th>3</th>\n",
       "      <td>A4</td>\n",
       "      <td>44</td>\n",
       "      <td>BS4</td>\n",
       "    </tr>\n",
       "    <tr>\n",
       "      <th>4</th>\n",
       "      <td>A5</td>\n",
       "      <td>48</td>\n",
       "      <td>BS4</td>\n",
       "    </tr>\n",
       "  </tbody>\n",
       "</table>\n",
       "</div>"
      ],
      "text/plain": [
       "  Bike ID  Fuel Economy Batch\n",
       "0      A1            43   BS4\n",
       "1      A2            52   BS4\n",
       "2      A3            58   BS4\n",
       "3      A4            44   BS4\n",
       "4      A5            48   BS4"
      ]
     },
     "execution_count": 3,
     "metadata": {},
     "output_type": "execute_result"
    }
   ],
   "source": [
    "twosampup_df.head()"
   ]
  },
  {
   "cell_type": "code",
   "execution_count": 4,
   "id": "6ca925a9",
   "metadata": {
    "collapsed": true
   },
   "outputs": [
    {
     "data": {
      "text/html": [
       "<div>\n",
       "<style scoped>\n",
       "    .dataframe tbody tr th:only-of-type {\n",
       "        vertical-align: middle;\n",
       "    }\n",
       "\n",
       "    .dataframe tbody tr th {\n",
       "        vertical-align: top;\n",
       "    }\n",
       "\n",
       "    .dataframe thead th {\n",
       "        text-align: right;\n",
       "    }\n",
       "</style>\n",
       "<table border=\"1\" class=\"dataframe\">\n",
       "  <thead>\n",
       "    <tr style=\"text-align: right;\">\n",
       "      <th></th>\n",
       "      <th>Bike ID</th>\n",
       "      <th>Fuel Economy</th>\n",
       "      <th>Batch</th>\n",
       "    </tr>\n",
       "  </thead>\n",
       "  <tbody>\n",
       "    <tr>\n",
       "      <th>43</th>\n",
       "      <td>B20</td>\n",
       "      <td>45</td>\n",
       "      <td>BS6</td>\n",
       "    </tr>\n",
       "    <tr>\n",
       "      <th>44</th>\n",
       "      <td>B21</td>\n",
       "      <td>54</td>\n",
       "      <td>BS6</td>\n",
       "    </tr>\n",
       "    <tr>\n",
       "      <th>45</th>\n",
       "      <td>B22</td>\n",
       "      <td>48</td>\n",
       "      <td>BS6</td>\n",
       "    </tr>\n",
       "    <tr>\n",
       "      <th>46</th>\n",
       "      <td>B23</td>\n",
       "      <td>62</td>\n",
       "      <td>BS6</td>\n",
       "    </tr>\n",
       "    <tr>\n",
       "      <th>47</th>\n",
       "      <td>B24</td>\n",
       "      <td>40</td>\n",
       "      <td>BS6</td>\n",
       "    </tr>\n",
       "  </tbody>\n",
       "</table>\n",
       "</div>"
      ],
      "text/plain": [
       "   Bike ID  Fuel Economy Batch\n",
       "43     B20            45   BS6\n",
       "44     B21            54   BS6\n",
       "45     B22            48   BS6\n",
       "46     B23            62   BS6\n",
       "47     B24            40   BS6"
      ]
     },
     "execution_count": 4,
     "metadata": {},
     "output_type": "execute_result"
    }
   ],
   "source": [
    "twosampup_df.tail()"
   ]
  },
  {
   "cell_type": "code",
   "execution_count": 5,
   "id": "19fd7b46",
   "metadata": {},
   "outputs": [
    {
     "data": {
      "text/plain": [
       "(48, 3)"
      ]
     },
     "execution_count": 5,
     "metadata": {},
     "output_type": "execute_result"
    }
   ],
   "source": [
    "twosampup_df.shape"
   ]
  },
  {
   "cell_type": "markdown",
   "id": "69d687d9",
   "metadata": {
    "id": "69d687d9"
   },
   "source": [
    "### Subset the scores of each class to separate series"
   ]
  },
  {
   "cell_type": "code",
   "execution_count": 6,
   "id": "de979d49",
   "metadata": {},
   "outputs": [
    {
     "data": {
      "text/plain": [
       "52.916666666666664"
      ]
     },
     "execution_count": 6,
     "metadata": {},
     "output_type": "execute_result"
    }
   ],
   "source": [
    "bs4 = twosampup_df[twosampup_df['Batch']==\"BS4\"]['Fuel Economy']\n",
    "bs4.mean()"
   ]
  },
  {
   "cell_type": "code",
   "execution_count": 7,
   "id": "68f96518",
   "metadata": {},
   "outputs": [
    {
     "data": {
      "text/plain": [
       "51.375"
      ]
     },
     "execution_count": 7,
     "metadata": {},
     "output_type": "execute_result"
    }
   ],
   "source": [
    "bs6 = twosampup_df[twosampup_df['Batch']==\"BS6\"]['Fuel Economy']\n",
    "bs6.mean()"
   ]
  },
  {
   "cell_type": "markdown",
   "id": "44267f0b",
   "metadata": {},
   "source": [
    "- H0:mean(bs4)=mean(bs6)\n",
    "- H1:mean(bs4)!=mean(bs6)\n",
    "- Assuming Significance Level of 5%"
   ]
  },
  {
   "cell_type": "markdown",
   "id": "f817ba7f",
   "metadata": {},
   "source": [
    "- p-values >0.05 --> Fail to reject null hypothesis\n",
    "- p-values <=0.05 --> Reject null hypothesis"
   ]
  },
  {
   "cell_type": "code",
   "execution_count": 8,
   "id": "ea8435e3",
   "metadata": {},
   "outputs": [
    {
     "data": {
      "text/plain": [
       "Ttest_indResult(statistic=0.7087914510636509, pvalue=0.482030754068267)"
      ]
     },
     "execution_count": 8,
     "metadata": {},
     "output_type": "execute_result"
    }
   ],
   "source": [
    "ss.ttest_ind(bs4,bs6,alternative='two-sided')"
   ]
  },
  {
   "cell_type": "markdown",
   "id": "a75c1b16",
   "metadata": {},
   "source": [
    "- p-value >0.05 --> Fail to reject the null hypothesis\n",
    "- Fuel Economy for BS6 is same as Fuel Economy for BS4"
   ]
  },
  {
   "cell_type": "markdown",
   "id": "7c930bdd",
   "metadata": {},
   "source": [
    "# Two sample mean testing (paired) -1"
   ]
  },
  {
   "cell_type": "markdown",
   "id": "1919a510",
   "metadata": {
    "id": "1919a510"
   },
   "source": [
    "Basket ball coach want to know whether or not a certain training program is able to increase the max vertical jump (in inches) of college basketball players. To test this, we may recruit a sample of 25 college basketball players and measure each of their max vertical jumps. Then, we may have each player use the training program for one month and then measure their max vertical jump again at the end of the month. To track if their is any difference in jump heights of the players after training program, you decided to conduct a few hypothesis tests.\n",
    "\n",
    "- Dataset to use: `paired-jump.csv`"
   ]
  },
  {
   "cell_type": "code",
   "execution_count": 9,
   "id": "b8f52fcc",
   "metadata": {},
   "outputs": [],
   "source": [
    "##Let's load the dataset\n",
    "twosampp_df = pd.read_csv(\"paired_jump.csv\")\n",
    "#https://drive.google.com/file/d/15y0VrwVMY-IUeT-1cSfPkJPA9pBBOk6v/view?usp=drive_link"
   ]
  },
  {
   "cell_type": "code",
   "execution_count": 10,
   "id": "8aa359ec",
   "metadata": {
    "collapsed": true
   },
   "outputs": [
    {
     "data": {
      "text/html": [
       "<div>\n",
       "<style scoped>\n",
       "    .dataframe tbody tr th:only-of-type {\n",
       "        vertical-align: middle;\n",
       "    }\n",
       "\n",
       "    .dataframe tbody tr th {\n",
       "        vertical-align: top;\n",
       "    }\n",
       "\n",
       "    .dataframe thead th {\n",
       "        text-align: right;\n",
       "    }\n",
       "</style>\n",
       "<table border=\"1\" class=\"dataframe\">\n",
       "  <thead>\n",
       "    <tr style=\"text-align: right;\">\n",
       "      <th></th>\n",
       "      <th>Player</th>\n",
       "      <th>Jump before training</th>\n",
       "      <th>Jump after training</th>\n",
       "    </tr>\n",
       "  </thead>\n",
       "  <tbody>\n",
       "    <tr>\n",
       "      <th>0</th>\n",
       "      <td>Player 1</td>\n",
       "      <td>22</td>\n",
       "      <td>24</td>\n",
       "    </tr>\n",
       "    <tr>\n",
       "      <th>1</th>\n",
       "      <td>Player 2</td>\n",
       "      <td>20</td>\n",
       "      <td>22</td>\n",
       "    </tr>\n",
       "    <tr>\n",
       "      <th>2</th>\n",
       "      <td>Player 3</td>\n",
       "      <td>19</td>\n",
       "      <td>19</td>\n",
       "    </tr>\n",
       "    <tr>\n",
       "      <th>3</th>\n",
       "      <td>Player 4</td>\n",
       "      <td>24</td>\n",
       "      <td>22</td>\n",
       "    </tr>\n",
       "    <tr>\n",
       "      <th>4</th>\n",
       "      <td>Player 5</td>\n",
       "      <td>25</td>\n",
       "      <td>28</td>\n",
       "    </tr>\n",
       "  </tbody>\n",
       "</table>\n",
       "</div>"
      ],
      "text/plain": [
       "     Player  Jump before training  Jump after training\n",
       "0  Player 1                    22                   24\n",
       "1  Player 2                    20                   22\n",
       "2  Player 3                    19                   19\n",
       "3  Player 4                    24                   22\n",
       "4  Player 5                    25                   28"
      ]
     },
     "execution_count": 10,
     "metadata": {},
     "output_type": "execute_result"
    }
   ],
   "source": [
    "twosampp_df.head()"
   ]
  },
  {
   "cell_type": "code",
   "execution_count": 11,
   "id": "fba2e96e",
   "metadata": {
    "colab": {
     "base_uri": "https://localhost:8080/"
    },
    "executionInfo": {
     "elapsed": 411,
     "status": "ok",
     "timestamp": 1705080421400,
     "user": {
      "displayName": "harish kumar",
      "userId": "06127230580454505577"
     },
     "user_tz": -330
    },
    "id": "fba2e96e",
    "outputId": "68098bb5-557e-4be5-e9e1-642ad66103d2"
   },
   "outputs": [
    {
     "data": {
      "text/plain": [
       "22.72"
      ]
     },
     "execution_count": 11,
     "metadata": {},
     "output_type": "execute_result"
    }
   ],
   "source": [
    "### Average Jump height before training\n",
    "bt=twosampp_df['Jump before training']\n",
    "bt.mean()"
   ]
  },
  {
   "cell_type": "code",
   "execution_count": 12,
   "id": "66ae20ed",
   "metadata": {
    "colab": {
     "base_uri": "https://localhost:8080/"
    },
    "executionInfo": {
     "elapsed": 375,
     "status": "ok",
     "timestamp": 1705080431923,
     "user": {
      "displayName": "harish kumar",
      "userId": "06127230580454505577"
     },
     "user_tz": -330
    },
    "id": "66ae20ed",
    "outputId": "54ebffad-2126-4426-dca7-bcca66b4f656"
   },
   "outputs": [
    {
     "data": {
      "text/plain": [
       "23.8"
      ]
     },
     "execution_count": 12,
     "metadata": {},
     "output_type": "execute_result"
    }
   ],
   "source": [
    "### Average Jump height after training\n",
    "at=twosampp_df['Jump after training']\n",
    "at.mean()"
   ]
  },
  {
   "cell_type": "markdown",
   "id": "41530946",
   "metadata": {},
   "source": [
    "- H0: Mean(Before Training) = Mean(After Training)\n",
    "- H1: Mean(Before Training) != Mean(After Training)"
   ]
  },
  {
   "cell_type": "markdown",
   "id": "c5182ac5",
   "metadata": {},
   "source": [
    "- p-values >0.05 --> Fail to reject null hypothesis\n",
    "- p-values <=0.05 --> Reject null hypothesis"
   ]
  },
  {
   "cell_type": "code",
   "execution_count": 13,
   "id": "d50a86e7",
   "metadata": {},
   "outputs": [
    {
     "data": {
      "text/plain": [
       "TtestResult(statistic=-3.2602767700386956, pvalue=0.0033180017066275855, df=24)"
      ]
     },
     "execution_count": 13,
     "metadata": {},
     "output_type": "execute_result"
    }
   ],
   "source": [
    "ss.ttest_rel(bt,at,alternative='two-sided')"
   ]
  },
  {
   "cell_type": "markdown",
   "id": "a102c76c",
   "metadata": {},
   "source": [
    "- H0: Mean(Before Training) <= Mean(After Training)\n",
    "- H1: Mean(Before Training) > Mean(After Training)"
   ]
  },
  {
   "cell_type": "markdown",
   "id": "c5182ac5",
   "metadata": {},
   "source": [
    "- p-values >0.05 --> Fail to reject null hypothesis\n",
    "- p-values <=0.05 --> Reject null hypothesis"
   ]
  },
  {
   "cell_type": "code",
   "execution_count": 14,
   "id": "32bd5876",
   "metadata": {},
   "outputs": [
    {
     "data": {
      "text/plain": [
       "TtestResult(statistic=-3.2602767700386956, pvalue=0.9983409991466862, df=24)"
      ]
     },
     "execution_count": 14,
     "metadata": {},
     "output_type": "execute_result"
    }
   ],
   "source": [
    "ss.ttest_rel(bt,at,alternative='greater')"
   ]
  },
  {
   "cell_type": "markdown",
   "id": "c1e30794",
   "metadata": {},
   "source": [
    "- p-values >0.05 --> Fail to reject null hypothesis"
   ]
  },
  {
   "cell_type": "code",
   "execution_count": 15,
   "id": "77740c2c",
   "metadata": {},
   "outputs": [],
   "source": [
    "# Two-Tailed Test --> Rejection region on the both ends of distribution (H1-> not equal to) (two-sided)\n",
    "# Left-Tailed Test --> Rejection region on the left end of distribution (H1-> lesser than symbol)(less)\n",
    "# Right-Tailed Test --> Rejection region on the right end of distribution (H1-> greater than symbol) (greater)"
   ]
  },
  {
   "cell_type": "code",
   "execution_count": null,
   "id": "fed3caab",
   "metadata": {},
   "outputs": [],
   "source": []
  }
 ],
 "metadata": {
  "kernelspec": {
   "display_name": "Python 3",
   "language": "python",
   "name": "python3"
  },
  "language_info": {
   "codemirror_mode": {
    "name": "ipython",
    "version": 3
   },
   "file_extension": ".py",
   "mimetype": "text/x-python",
   "name": "python",
   "nbconvert_exporter": "python",
   "pygments_lexer": "ipython3",
   "version": "3.8.8"
  }
 },
 "nbformat": 4,
 "nbformat_minor": 5
}
